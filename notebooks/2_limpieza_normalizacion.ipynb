{
 "cells": [
  {
   "cell_type": "markdown",
   "id": "a734a37d",
   "metadata": {},
   "source": [
    "# Proyecto Final - Introduccion a la ciencia de datos\n",
    "* Alejandro Marin Hoyos\n",
    "* Manuel Antonio Vidales\n",
    "* Yessica Fernanda Villa  \n",
    "### 2. Limpieza y Normalización de Datos"
   ]
  },
  {
   "cell_type": "code",
   "execution_count": 1,
   "id": "b80d9dda",
   "metadata": {},
   "outputs": [
    {
     "name": "stdout",
     "output_type": "stream",
     "text": [
      "Requirement already satisfied: scikit-learn in c:\\users\\manuel\\appdata\\local\\programs\\python\\python313\\lib\\site-packages (1.6.1)\n",
      "Requirement already satisfied: numpy>=1.19.5 in c:\\users\\manuel\\appdata\\local\\programs\\python\\python313\\lib\\site-packages (from scikit-learn) (2.2.3)\n",
      "Requirement already satisfied: scipy>=1.6.0 in c:\\users\\manuel\\appdata\\local\\programs\\python\\python313\\lib\\site-packages (from scikit-learn) (1.15.2)\n",
      "Requirement already satisfied: joblib>=1.2.0 in c:\\users\\manuel\\appdata\\local\\programs\\python\\python313\\lib\\site-packages (from scikit-learn) (1.4.2)\n",
      "Requirement already satisfied: threadpoolctl>=3.1.0 in c:\\users\\manuel\\appdata\\local\\programs\\python\\python313\\lib\\site-packages (from scikit-learn) (3.6.0)\n"
     ]
    },
    {
     "name": "stderr",
     "output_type": "stream",
     "text": [
      "\n",
      "[notice] A new release of pip is available: 25.0.1 -> 25.1.1\n",
      "[notice] To update, run: python.exe -m pip install --upgrade pip\n"
     ]
    }
   ],
   "source": [
    "!pip install scikit-learn"
   ]
  },
  {
   "cell_type": "code",
   "execution_count": null,
   "id": "1aafe4ca",
   "metadata": {},
   "outputs": [
    {
     "name": "stdout",
     "output_type": "stream",
     "text": [
      "Valores nulos antes:\n",
      " N              0\n",
      "P              0\n",
      "K              0\n",
      "temperature    0\n",
      "humidity       0\n",
      "ph             0\n",
      "rainfall       0\n",
      "label          0\n",
      "dtype: int64\n",
      "\n",
      "Precisión comparativa:\n",
      "                 Random Forest       SVM\n",
      "Original             0.993182  0.961364\n",
      "StandardScaler       0.993182  0.968182\n",
      "MinMaxScaler         0.993182  0.968182\n",
      "RobustScaler         0.993182  0.970455\n"
     ]
    },
    {
     "data": {
      "text/plain": [
       "<Figure size 1200x600 with 0 Axes>"
      ]
     },
     "metadata": {},
     "output_type": "display_data"
    },
    {
     "data": {
      "image/png": "[encoded data removed]",
      "text/plain": [
       "<Figure size 640x480 with 1 Axes>"
      ]
     },
     "metadata": {},
     "output_type": "display_data"
    }
   ],
   "source": [
    "import pandas as pd\n",
    "import numpy as np\n",
    "import matplotlib.pyplot as plt\n",
    "from sklearn.impute import SimpleImputer\n",
    "from sklearn.preprocessing import StandardScaler, MinMaxScaler, RobustScaler, LabelEncoder\n",
    "from sklearn.model_selection import train_test_split\n",
    "from sklearn.ensemble import RandomForestClassifier\n",
    "from sklearn.svm import SVC\n",
    "from sklearn.metrics import accuracy_score\n",
    "\n",
    "# Cargar datos (asumiendo que ya está cargado como df)\n",
    "df = pd.read_csv('../data/Crop_recommendation.csv')\n",
    "\n",
    "# 1. Verificación e imputación de nulos \n",
    "print(\"Valores nulos antes:\\n\", df.isnull().sum())\n",
    "\n",
    "imputer = SimpleImputer(strategy='median')  # Para variables numéricas\n",
    "df[['N','P','K','temperature','humidity','ph','rainfall']] = imputer.fit_transform(\n",
    "    df[['N','P','K','temperature','humidity','ph','rainfall']]\n",
    ")\n",
    "\n",
    "# Codificar la variable objetivo\n",
    "label_encoder = LabelEncoder()\n",
    "df['label_encoded'] = label_encoder.fit_transform(df['label'])\n",
    "\n",
    "# Dividir datos\n",
    "X = df.drop(['label', 'label_encoded'], axis=1)\n",
    "y = df['label_encoded']\n",
    "X_train, X_test, y_train, y_test = train_test_split(X, y, test_size=0.2, random_state=42)\n",
    "\n",
    "# 2. Aplicar diferentes técnicas de escalado\n",
    "scalers = {\n",
    "    'Original': None,\n",
    "    'StandardScaler': StandardScaler(),\n",
    "    'MinMaxScaler': MinMaxScaler(),\n",
    "    'RobustScaler': RobustScaler()\n",
    "}\n",
    "\n",
    "results = {}\n",
    "\n",
    "for name, scaler in scalers.items():\n",
    "    # Copiar los datos para no modificar el original\n",
    "    X_train_scaled = X_train.copy()\n",
    "    X_test_scaled = X_test.copy()\n",
    "    \n",
    "    if scaler is not None:\n",
    "        X_train_scaled = scaler.fit_transform(X_train_scaled)\n",
    "        X_test_scaled = scaler.transform(X_test_scaled)\n",
    "    \n",
    "    # Entrenar Random Forest (no necesita normalización)\n",
    "    rf = RandomForestClassifier(random_state=42)\n",
    "    rf.fit(X_train_scaled, y_train)\n",
    "    rf_acc = accuracy_score(y_test, rf.predict(X_test_scaled))\n",
    "    \n",
    "    # Entrenar SVM (sensible a la escala)\n",
    "    svm = SVC(random_state=42)\n",
    "    svm.fit(X_train_scaled, y_train)\n",
    "    svm_acc = accuracy_score(y_test, svm.predict(X_test_scaled))\n",
    "    \n",
    "    results[name] = {\n",
    "        'Random Forest': rf_acc,\n",
    "        'SVM': svm_acc\n",
    "    }\n",
    "\n",
    "# Mostrar resultados\n",
    "results_df = pd.DataFrame(results).T\n",
    "print(\"\\nPrecisión comparativa:\\n\", results_df)\n",
    "\n",
    "# Visualización\n",
    "plt.figure(figsize=(12, 6))\n",
    "results_df.plot(kind='bar', rot=0)\n",
    "plt.title('Comparación de Métricas con Diferentes Escalados')\n",
    "plt.ylabel('Accuracy')\n",
    "plt.legend(loc='lower right')\n",
    "plt.show()"
   ]
  }
 ],
 "metadata": {
  "kernelspec": {
   "display_name": "Python 3",
   "language": "python",
   "name": "python3"
  },
  "language_info": {
   "codemirror_mode": {
    "name": "ipython",
    "version": 3
   },
   "file_extension": ".py",
   "mimetype": "text/x-python",
   "name": "python",
   "nbconvert_exporter": "python",
   "pygments_lexer": "ipython3",
   "version": "3.13.2"
  }
 },
 "nbformat": 4,
 "nbformat_minor": 5
}
