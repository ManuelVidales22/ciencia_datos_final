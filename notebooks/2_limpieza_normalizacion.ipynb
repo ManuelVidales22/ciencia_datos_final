{
 "cells": [
  {
   "cell_type": "markdown",
   "id": "a734a37d",
   "metadata": {},
   "source": [
    "# Proyecto Final - Introduccion a la ciencia de datos\n",
    "* Alejandro Marin Hoyos\n",
    "* Manuel Antonio Vidales\n",
    "* Yessica Fernanda Villa  \n",
    "### 2. Limpieza y Normalización de Datos"
   ]
  },
  {
   "cell_type": "code",
   "execution_count": 26,
   "id": "b80d9dda",
   "metadata": {},
   "outputs": [
    {
     "name": "stdout",
     "output_type": "stream",
     "text": [
      "Requirement already satisfied: scikit-learn in c:\\users\\manuel\\appdata\\local\\programs\\python\\python313\\lib\\site-packages (1.6.1)\n",
      "Requirement already satisfied: numpy>=1.19.5 in c:\\users\\manuel\\appdata\\local\\programs\\python\\python313\\lib\\site-packages (from scikit-learn) (2.2.3)\n",
      "Requirement already satisfied: scipy>=1.6.0 in c:\\users\\manuel\\appdata\\local\\programs\\python\\python313\\lib\\site-packages (from scikit-learn) (1.15.2)\n",
      "Requirement already satisfied: joblib>=1.2.0 in c:\\users\\manuel\\appdata\\local\\programs\\python\\python313\\lib\\site-packages (from scikit-learn) (1.4.2)\n",
      "Requirement already satisfied: threadpoolctl>=3.1.0 in c:\\users\\manuel\\appdata\\local\\programs\\python\\python313\\lib\\site-packages (from scikit-learn) (3.6.0)\n"
     ]
    },
    {
     "name": "stderr",
     "output_type": "stream",
     "text": [
      "\n",
      "[notice] A new release of pip is available: 25.0.1 -> 25.1.1\n",
      "[notice] To update, run: python.exe -m pip install --upgrade pip\n"
     ]
    }
   ],
   "source": [
    "!pip install scikit-learn"
   ]
  },
  {
   "cell_type": "code",
   "execution_count": 27,
   "id": "69a1278c",
   "metadata": {},
   "outputs": [],
   "source": [
    "import pandas as pd\n",
    "import numpy as np\n",
    "from sklearn.impute import SimpleImputer\n",
    "from sklearn.preprocessing import MinMaxScaler, StandardScaler\n",
    "import matplotlib.pyplot as plt\n",
    "import seaborn as sns"
   ]
  },
  {
   "cell_type": "markdown",
   "id": "1346ca99",
   "metadata": {},
   "source": [
    "# Carga del dataset"
   ]
  },
  {
   "cell_type": "code",
   "execution_count": 28,
   "id": "cccfc1fd",
   "metadata": {},
   "outputs": [
    {
     "data": {
      "text/html": [
       "<div>\n",
       "<style scoped>\n",
       "    .dataframe tbody tr th:only-of-type {\n",
       "        vertical-align: middle;\n",
       "    }\n",
       "\n",
       "    .dataframe tbody tr th {\n",
       "        vertical-align: top;\n",
       "    }\n",
       "\n",
       "    .dataframe thead th {\n",
       "        text-align: right;\n",
       "    }\n",
       "</style>\n",
       "<table border=\"1\" class=\"dataframe\">\n",
       "  <thead>\n",
       "    <tr style=\"text-align: right;\">\n",
       "      <th></th>\n",
       "      <th>N</th>\n",
       "      <th>P</th>\n",
       "      <th>K</th>\n",
       "      <th>temperature</th>\n",
       "      <th>humidity</th>\n",
       "      <th>ph</th>\n",
       "      <th>rainfall</th>\n",
       "      <th>label</th>\n",
       "    </tr>\n",
       "  </thead>\n",
       "  <tbody>\n",
       "    <tr>\n",
       "      <th>0</th>\n",
       "      <td>90</td>\n",
       "      <td>42</td>\n",
       "      <td>43</td>\n",
       "      <td>20.879744</td>\n",
       "      <td>82.002744</td>\n",
       "      <td>6.502985</td>\n",
       "      <td>202.935536</td>\n",
       "      <td>rice</td>\n",
       "    </tr>\n",
       "    <tr>\n",
       "      <th>1</th>\n",
       "      <td>85</td>\n",
       "      <td>58</td>\n",
       "      <td>41</td>\n",
       "      <td>21.770462</td>\n",
       "      <td>80.319644</td>\n",
       "      <td>7.038096</td>\n",
       "      <td>226.655537</td>\n",
       "      <td>rice</td>\n",
       "    </tr>\n",
       "    <tr>\n",
       "      <th>2</th>\n",
       "      <td>60</td>\n",
       "      <td>55</td>\n",
       "      <td>44</td>\n",
       "      <td>23.004459</td>\n",
       "      <td>82.320763</td>\n",
       "      <td>7.840207</td>\n",
       "      <td>263.964248</td>\n",
       "      <td>rice</td>\n",
       "    </tr>\n",
       "    <tr>\n",
       "      <th>3</th>\n",
       "      <td>74</td>\n",
       "      <td>35</td>\n",
       "      <td>40</td>\n",
       "      <td>26.491096</td>\n",
       "      <td>80.158363</td>\n",
       "      <td>6.980401</td>\n",
       "      <td>242.864034</td>\n",
       "      <td>rice</td>\n",
       "    </tr>\n",
       "    <tr>\n",
       "      <th>4</th>\n",
       "      <td>78</td>\n",
       "      <td>42</td>\n",
       "      <td>42</td>\n",
       "      <td>20.130175</td>\n",
       "      <td>81.604873</td>\n",
       "      <td>7.628473</td>\n",
       "      <td>262.717340</td>\n",
       "      <td>rice</td>\n",
       "    </tr>\n",
       "  </tbody>\n",
       "</table>\n",
       "</div>"
      ],
      "text/plain": [
       "    N   P   K  temperature   humidity        ph    rainfall label\n",
       "0  90  42  43    20.879744  82.002744  6.502985  202.935536  rice\n",
       "1  85  58  41    21.770462  80.319644  7.038096  226.655537  rice\n",
       "2  60  55  44    23.004459  82.320763  7.840207  263.964248  rice\n",
       "3  74  35  40    26.491096  80.158363  6.980401  242.864034  rice\n",
       "4  78  42  42    20.130175  81.604873  7.628473  262.717340  rice"
      ]
     },
     "execution_count": 28,
     "metadata": {},
     "output_type": "execute_result"
    }
   ],
   "source": [
    "df = pd.read_csv('../data/Crop_recommendation.csv')\n",
    "# Mostrar las primeras filas\n",
    "df.head()"
   ]
  },
  {
   "cell_type": "markdown",
   "id": "fb6457ab",
   "metadata": {},
   "source": [
    "# Tipos de datos"
   ]
  },
  {
   "cell_type": "code",
   "execution_count": 33,
   "id": "92182a96",
   "metadata": {},
   "outputs": [
    {
     "name": "stdout",
     "output_type": "stream",
     "text": [
      "Tipos de datos en cada columna:\n",
      "N                int64\n",
      "P                int64\n",
      "K                int64\n",
      "temperature    float64\n",
      "humidity       float64\n",
      "ph             float64\n",
      "rainfall       float64\n",
      "label           object\n",
      "dtype: object\n"
     ]
    }
   ],
   "source": [
    "# Mostrar los tipos de datos\n",
    "print(\"Tipos de datos en cada columna:\")\n",
    "print(df.dtypes)"
   ]
  },
  {
   "cell_type": "markdown",
   "id": "8eb88792",
   "metadata": {},
   "source": [
    "# Descriptivas generales"
   ]
  },
  {
   "cell_type": "code",
   "execution_count": 34,
   "id": "c8b35be1",
   "metadata": {},
   "outputs": [
    {
     "name": "stdout",
     "output_type": "stream",
     "text": [
      "Estadísticas descriptivas generales:\n"
     ]
    },
    {
     "data": {
      "text/html": [
       "<div>\n",
       "<style scoped>\n",
       "    .dataframe tbody tr th:only-of-type {\n",
       "        vertical-align: middle;\n",
       "    }\n",
       "\n",
       "    .dataframe tbody tr th {\n",
       "        vertical-align: top;\n",
       "    }\n",
       "\n",
       "    .dataframe thead th {\n",
       "        text-align: right;\n",
       "    }\n",
       "</style>\n",
       "<table border=\"1\" class=\"dataframe\">\n",
       "  <thead>\n",
       "    <tr style=\"text-align: right;\">\n",
       "      <th></th>\n",
       "      <th>N</th>\n",
       "      <th>P</th>\n",
       "      <th>K</th>\n",
       "      <th>temperature</th>\n",
       "      <th>humidity</th>\n",
       "      <th>ph</th>\n",
       "      <th>rainfall</th>\n",
       "    </tr>\n",
       "  </thead>\n",
       "  <tbody>\n",
       "    <tr>\n",
       "      <th>count</th>\n",
       "      <td>2200.000000</td>\n",
       "      <td>2200.000000</td>\n",
       "      <td>2200.000000</td>\n",
       "      <td>2200.000000</td>\n",
       "      <td>2200.000000</td>\n",
       "      <td>2200.000000</td>\n",
       "      <td>2200.000000</td>\n",
       "    </tr>\n",
       "    <tr>\n",
       "      <th>mean</th>\n",
       "      <td>50.551818</td>\n",
       "      <td>53.362727</td>\n",
       "      <td>48.149091</td>\n",
       "      <td>25.616244</td>\n",
       "      <td>71.481779</td>\n",
       "      <td>6.469480</td>\n",
       "      <td>103.463655</td>\n",
       "    </tr>\n",
       "    <tr>\n",
       "      <th>std</th>\n",
       "      <td>36.917334</td>\n",
       "      <td>32.985883</td>\n",
       "      <td>50.647931</td>\n",
       "      <td>5.063749</td>\n",
       "      <td>22.263812</td>\n",
       "      <td>0.773938</td>\n",
       "      <td>54.958389</td>\n",
       "    </tr>\n",
       "    <tr>\n",
       "      <th>min</th>\n",
       "      <td>0.000000</td>\n",
       "      <td>5.000000</td>\n",
       "      <td>5.000000</td>\n",
       "      <td>8.825675</td>\n",
       "      <td>14.258040</td>\n",
       "      <td>3.504752</td>\n",
       "      <td>20.211267</td>\n",
       "    </tr>\n",
       "    <tr>\n",
       "      <th>25%</th>\n",
       "      <td>21.000000</td>\n",
       "      <td>28.000000</td>\n",
       "      <td>20.000000</td>\n",
       "      <td>22.769375</td>\n",
       "      <td>60.261953</td>\n",
       "      <td>5.971693</td>\n",
       "      <td>64.551686</td>\n",
       "    </tr>\n",
       "    <tr>\n",
       "      <th>50%</th>\n",
       "      <td>37.000000</td>\n",
       "      <td>51.000000</td>\n",
       "      <td>32.000000</td>\n",
       "      <td>25.598693</td>\n",
       "      <td>80.473146</td>\n",
       "      <td>6.425045</td>\n",
       "      <td>94.867624</td>\n",
       "    </tr>\n",
       "    <tr>\n",
       "      <th>75%</th>\n",
       "      <td>84.250000</td>\n",
       "      <td>68.000000</td>\n",
       "      <td>49.000000</td>\n",
       "      <td>28.561654</td>\n",
       "      <td>89.948771</td>\n",
       "      <td>6.923643</td>\n",
       "      <td>124.267508</td>\n",
       "    </tr>\n",
       "    <tr>\n",
       "      <th>max</th>\n",
       "      <td>140.000000</td>\n",
       "      <td>145.000000</td>\n",
       "      <td>205.000000</td>\n",
       "      <td>43.675493</td>\n",
       "      <td>99.981876</td>\n",
       "      <td>9.935091</td>\n",
       "      <td>298.560117</td>\n",
       "    </tr>\n",
       "  </tbody>\n",
       "</table>\n",
       "</div>"
      ],
      "text/plain": [
       "                 N            P            K  temperature     humidity  \\\n",
       "count  2200.000000  2200.000000  2200.000000  2200.000000  2200.000000   \n",
       "mean     50.551818    53.362727    48.149091    25.616244    71.481779   \n",
       "std      36.917334    32.985883    50.647931     5.063749    22.263812   \n",
       "min       0.000000     5.000000     5.000000     8.825675    14.258040   \n",
       "25%      21.000000    28.000000    20.000000    22.769375    60.261953   \n",
       "50%      37.000000    51.000000    32.000000    25.598693    80.473146   \n",
       "75%      84.250000    68.000000    49.000000    28.561654    89.948771   \n",
       "max     140.000000   145.000000   205.000000    43.675493    99.981876   \n",
       "\n",
       "                ph     rainfall  \n",
       "count  2200.000000  2200.000000  \n",
       "mean      6.469480   103.463655  \n",
       "std       0.773938    54.958389  \n",
       "min       3.504752    20.211267  \n",
       "25%       5.971693    64.551686  \n",
       "50%       6.425045    94.867624  \n",
       "75%       6.923643   124.267508  \n",
       "max       9.935091   298.560117  "
      ]
     },
     "execution_count": 34,
     "metadata": {},
     "output_type": "execute_result"
    }
   ],
   "source": [
    "# Mostrar estadísticas descriptivas generales\n",
    "print(\"Estadísticas descriptivas generales:\")\n",
    "df.describe()"
   ]
  },
  {
   "cell_type": "markdown",
   "id": "c7edb1bb",
   "metadata": {},
   "source": [
    "# Media y mediana"
   ]
  },
  {
   "cell_type": "code",
   "execution_count": 35,
   "id": "f357a018",
   "metadata": {},
   "outputs": [
    {
     "name": "stdout",
     "output_type": "stream",
     "text": [
      "Media de las características numéricas:\n",
      "N               50.551818\n",
      "P               53.362727\n",
      "K               48.149091\n",
      "temperature     25.616244\n",
      "humidity        71.481779\n",
      "ph               6.469480\n",
      "rainfall       103.463655\n",
      "dtype: float64\n",
      "\n",
      "Mediana de las características numéricas:\n",
      "N              37.000000\n",
      "P              51.000000\n",
      "K              32.000000\n",
      "temperature    25.598693\n",
      "humidity       80.473146\n",
      "ph              6.425045\n",
      "rainfall       94.867624\n",
      "dtype: float64\n"
     ]
    }
   ],
   "source": [
    "# Mostrar media y mediana de las características numéricas\n",
    "print(\"Media de las características numéricas:\")\n",
    "print(df.select_dtypes(include=[np.number]).mean())\n",
    "\n",
    "print(\"\\nMediana de las características numéricas:\")\n",
    "print(df.select_dtypes(include=[np.number]).median())"
   ]
  },
  {
   "cell_type": "markdown",
   "id": "94ddd7b3",
   "metadata": {},
   "source": [
    "# Varianza y desviación estándar"
   ]
  },
  {
   "cell_type": "code",
   "execution_count": null,
   "id": "3299fe69",
   "metadata": {},
   "outputs": [
    {
     "name": "stdout",
     "output_type": "stream",
     "text": [
      "Varianza de las características numéricas:\n",
      "N              1362.889537\n",
      "P              1088.068460\n",
      "K              2565.212869\n",
      "temperature      25.641550\n",
      "humidity        495.677307\n",
      "ph                0.598980\n",
      "rainfall       3020.424469\n",
      "dtype: float64\n",
      "\n",
      "Desviación estándar de las características numéricas:\n",
      "N              36.917334\n",
      "P              32.985883\n",
      "K              50.647931\n",
      "temperature     5.063749\n",
      "humidity       22.263812\n",
      "ph              0.773938\n",
      "rainfall       54.958389\n",
      "dtype: float64\n"
     ]
    }
   ],
   "source": [
    "# Mostrar la varianza y desviación estándar de las características numéricas\n",
    "print(\"Varianza de las características numéricas:\")\n",
    "print(df.select_dtypes(include=[np.number]).var())\n",
    "\n",
    "print(\"\\nDesviación estándar de las características numéricas:\")\n",
    "print(df.select_dtypes(include=[np.number]).std())"
   ]
  },
  {
   "cell_type": "markdown",
   "id": "f51ab791",
   "metadata": {},
   "source": [
    "# Análisis exploratorio inicial"
   ]
  },
  {
   "cell_type": "code",
   "execution_count": 29,
   "id": "2fe32aa8",
   "metadata": {},
   "outputs": [
    {
     "name": "stdout",
     "output_type": "stream",
     "text": [
      "Información del dataset:\n",
      "<class 'pandas.core.frame.DataFrame'>\n",
      "RangeIndex: 2200 entries, 0 to 2199\n",
      "Data columns (total 8 columns):\n",
      " #   Column       Non-Null Count  Dtype  \n",
      "---  ------       --------------  -----  \n",
      " 0   N            2200 non-null   int64  \n",
      " 1   P            2200 non-null   int64  \n",
      " 2   K            2200 non-null   int64  \n",
      " 3   temperature  2200 non-null   float64\n",
      " 4   humidity     2200 non-null   float64\n",
      " 5   ph           2200 non-null   float64\n",
      " 6   rainfall     2200 non-null   float64\n",
      " 7   label        2200 non-null   object \n",
      "dtypes: float64(4), int64(3), object(1)\n",
      "memory usage: 137.6+ KB\n",
      "None\n",
      "\n",
      "Estadísticas descriptivas:\n",
      "                 N            P            K  temperature     humidity  \\\n",
      "count  2200.000000  2200.000000  2200.000000  2200.000000  2200.000000   \n",
      "mean     50.551818    53.362727    48.149091    25.616244    71.481779   \n",
      "std      36.917334    32.985883    50.647931     5.063749    22.263812   \n",
      "min       0.000000     5.000000     5.000000     8.825675    14.258040   \n",
      "25%      21.000000    28.000000    20.000000    22.769375    60.261953   \n",
      "50%      37.000000    51.000000    32.000000    25.598693    80.473146   \n",
      "75%      84.250000    68.000000    49.000000    28.561654    89.948771   \n",
      "max     140.000000   145.000000   205.000000    43.675493    99.981876   \n",
      "\n",
      "                ph     rainfall  \n",
      "count  2200.000000  2200.000000  \n",
      "mean      6.469480   103.463655  \n",
      "std       0.773938    54.958389  \n",
      "min       3.504752    20.211267  \n",
      "25%       5.971693    64.551686  \n",
      "50%       6.425045    94.867624  \n",
      "75%       6.923643   124.267508  \n",
      "max       9.935091   298.560117  \n",
      "\n",
      "Valores nulos por columna:\n",
      "N              0\n",
      "P              0\n",
      "K              0\n",
      "temperature    0\n",
      "humidity       0\n",
      "ph             0\n",
      "rainfall       0\n",
      "label          0\n",
      "dtype: int64\n"
     ]
    }
   ],
   "source": [
    "# Información básica del dataset\n",
    "print(\"Información del dataset:\")\n",
    "print(df.info())\n",
    "\n",
    "# Estadísticas descriptivas\n",
    "print(\"\\nEstadísticas descriptivas:\")\n",
    "print(df.describe())\n",
    "\n",
    "# Verificación de valores nulos\n",
    "print(\"\\nValores nulos por columna:\")\n",
    "print(df.isnull().sum())"
   ]
  },
  {
   "cell_type": "markdown",
   "id": "8eec5cf6",
   "metadata": {},
   "source": [
    "# Detencion de outliers"
   ]
  },
  {
   "cell_type": "code",
   "execution_count": 39,
   "id": "6bc0a894",
   "metadata": {},
   "outputs": [
    {
     "name": "stdout",
     "output_type": "stream",
     "text": [
      "Filas originales: 2200\n",
      "Filas después de eliminar outliers: 1846\n"
     ]
    }
   ],
   "source": [
    "# Tratar valores atípicos en las variables numéricas\n",
    "df_cleaned = df.copy()\n",
    "numerical_columns = ['N', 'P', 'K', 'temperature', 'humidity', 'ph', 'rainfall']\n",
    "# Eliminar valores atípicos usando el método IQR\n",
    "for col in numerical_columns:\n",
    "  Q1 = df_cleaned[col].quantile(0.25)\n",
    "  Q3 = df_cleaned[col].quantile(0.75)\n",
    "  IQR = Q3 - Q1\n",
    "  lower_bound = Q1 - 1.5 * IQR\n",
    "  upper_bound = Q3 + 1.5 * IQR\n",
    "  df_cleaned = df_cleaned[(df_cleaned[col] >= lower_bound) & (df_cleaned[col] <= upper_bound)]\n",
    "\n",
    "print(f\"Filas originales: {len(df)}\")\n",
    "print(f\"Filas después de eliminar outliers: {len(df_cleaned)}\")"
   ]
  },
  {
   "cell_type": "markdown",
   "id": "f33a525f",
   "metadata": {},
   "source": [
    "# Visualizacion de distribuciones"
   ]
  },
  {
   "cell_type": "code",
   "execution_count": 40,
   "id": "1dd9c213",
   "metadata": {},
   "outputs": [
    {
     "data": {
      "image/png": "[encoded data removed]",
      "text/plain": [
       "<Figure size 1600x800 with 8 Axes>"
      ]
     },
     "metadata": {},
     "output_type": "display_data"
    }
   ],
   "source": [
    "fig, axes = plt.subplots(2, 4, figsize=(16, 8))\n",
    "axes = axes.ravel()\n",
    "numerical_columns = ['N', 'P', 'K', 'temperature', 'humidity', 'ph', 'rainfall']\n",
    "for i, col in enumerate(numerical_columns):\n",
    "    axes[i].hist(df[col], bins=30, alpha=0.7, color='skyblue', edgecolor='black')\n",
    "    axes[i].set_title(f'Distribución de {col}')\n",
    "    axes[i].set_xlabel(col)\n",
    "    axes[i].set_ylabel('Frecuencia')\n",
    "\n",
    "plt.tight_layout()\n",
    "plt.show()"
   ]
  },
  {
   "cell_type": "markdown",
   "id": "54235d2c",
   "metadata": {},
   "source": [
    "# Normalizacion (Standard Scaling)"
   ]
  },
  {
   "cell_type": "code",
   "execution_count": 44,
   "id": "7a247937",
   "metadata": {},
   "outputs": [
    {
     "name": "stdout",
     "output_type": "stream",
     "text": [
      "\n",
      "Dataset después de estandarización (primeras filas):\n",
      "          N         P         K  temperature  humidity        ph  rainfall  \\\n",
      "0  1.068797 -0.344551 -0.101688    -0.935587  0.472666  0.043302  1.810361   \n",
      "1  0.933329  0.140616 -0.141185    -0.759646  0.397051  0.734873  2.242058   \n",
      "2  0.255986  0.049647 -0.081939    -0.515898  0.486954  1.771510  2.921066   \n",
      "3  0.635298 -0.556811 -0.160933     0.172807  0.389805  0.660308  2.537048   \n",
      "4  0.743673 -0.344551 -0.121436    -1.083647  0.454792  1.497868  2.898373   \n",
      "\n",
      "  label  \n",
      "0  rice  \n",
      "1  rice  \n",
      "2  rice  \n",
      "3  rice  \n",
      "4  rice  \n"
     ]
    },
    {
     "data": {
      "image/png": "[encoded data removed]",
      "text/plain": [
       "<Figure size 1200x600 with 1 Axes>"
      ]
     },
     "metadata": {},
     "output_type": "display_data"
    }
   ],
   "source": [
    "# Aplicar estandarización (media=0, desviación=1)\n",
    "standard_scaler = StandardScaler()\n",
    "X_standardized = standard_scaler.fit_transform(X)\n",
    "\n",
    "# Convertir a DataFrame para mejor visualización\n",
    "df_standardized = pd.DataFrame(X_standardized, columns=X.columns)\n",
    "df_standardized['label'] = y  # Añadir la columna de etiqueta\n",
    "\n",
    "print(\"\\nDataset después de estandarización (primeras filas):\")\n",
    "print(df_standardized.head())\n",
    "\n",
    "# Visualización de datos estandarizados\n",
    "plt.figure(figsize=(12, 6))\n",
    "sns.boxplot(data=df_standardized.drop('label', axis=1))\n",
    "plt.title('Distribución de características después de estandarización')\n",
    "plt.xticks(rotation=45)\n",
    "plt.show()"
   ]
  },
  {
   "cell_type": "markdown",
   "id": "387ae94d",
   "metadata": {},
   "source": [
    "# Guardar los datasets"
   ]
  },
  {
   "cell_type": "code",
   "execution_count": 45,
   "id": "8b2325c3",
   "metadata": {},
   "outputs": [
    {
     "name": "stdout",
     "output_type": "stream",
     "text": [
      "Procesamiento completado. Datasets guardados.\n"
     ]
    }
   ],
   "source": [
    "# Guardar datasets procesados\n",
    "df_standardized.to_csv('crop_data_normalized.csv', index=False)\n",
    "\n",
    "print(\"Procesamiento completado. Datasets guardados.\")"
   ]
  }
 ],
 "metadata": {
  "kernelspec": {
   "display_name": "Python 3",
   "language": "python",
   "name": "python3"
  },
  "language_info": {
   "codemirror_mode": {
    "name": "ipython",
    "version": 3
   },
   "file_extension": ".py",
   "mimetype": "text/x-python",
   "name": "python",
   "nbconvert_exporter": "python",
   "pygments_lexer": "ipython3",
   "version": "3.13.2"
  }
 },
 "nbformat": 4,
 "nbformat_minor": 5
}
